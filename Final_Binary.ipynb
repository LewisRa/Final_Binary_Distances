{
 "cells": [
  {
   "cell_type": "markdown",
   "metadata": {},
   "source": [
    "# Jaccard"
   ]
  },
  {
   "cell_type": "code",
   "execution_count": 1,
   "metadata": {},
   "outputs": [
    {
     "name": "stdout",
     "output_type": "stream",
     "text": [
      "(70, 206)\n",
      "(70, 1)\n",
      "(70,)\n",
      "Counter({2: 1, 1: 1})\n",
      "Counter({1: 6, 0: 1})\n",
      "Counter({1: 1})\n",
      "Counter({1: 12})\n",
      "Counter({6: 2, 1: 1})\n",
      "Counter({6: 28, 1: 1})\n",
      "Counter({1: 5, 0: 4, 4: 4, 3: 1, 5: 1, 2: 1})\n",
      "---------------------------------------------------------------------------\n",
      "Counter({6: 1, 2: 1})\n",
      "Counter({3: 5, 0: 1, 2: 1})\n",
      "Counter({2: 1})\n",
      "Counter({4: 10, 3: 1, 2: 1})\n",
      "Counter({1: 1, 5: 1, 2: 1})\n",
      "Counter({1: 27, 5: 2})\n",
      "Counter({0: 10, 2: 5, 6: 1})\n",
      "---------------------------------------------------------------------------\n",
      "Counter({2: 1, 1: 1})\n",
      "Counter({4: 5, 3: 1, 6: 1})\n",
      "Counter({6: 1})\n",
      "Counter({1: 11, 4: 1})\n",
      "Counter({0: 2, 1: 1})\n",
      "Counter({0: 28, 1: 1})\n",
      "Counter({5: 5, 3: 4, 6: 4, 2: 2, 1: 1})\n",
      "---------------------------------------------------------------------------\n"
     ]
    }
   ],
   "source": [
    "from sklearn import metrics\n",
    "from sklearn import datasets\n",
    "import pandas as pd\n",
    "from sklearn.cluster import AgglomerativeClustering\n",
    "import numpy as np\n",
    "\n",
    "data = pd.read_csv('SCADI.csv')\n",
    "\n",
    "print(data.shape)\n",
    "\n",
    "X= data.loc[:,'d 5100-0':'d 571-9']\n",
    "Xtrue=X.values\n",
    "\n",
    "y=data.loc[:, 'Classes']\n",
    "y = y.str.extract('(\\d+)').astype(int) #remove class from front\n",
    "#Remove strings from a float number in a column\n",
    "y=y-1\n",
    "ytrue =y.values\n",
    "print(ytrue.shape)\n",
    "\n",
    "y1=ytrue.flatten()\n",
    "print(y1.shape)\n",
    "\n",
    "from collections import Counter\n",
    "n='Jaccard'\n",
    "algorithms = []\n",
    "algorithms.append(AgglomerativeClustering(n_clusters=7,affinity=n, linkage='single'))\n",
    "algorithms.append(AgglomerativeClustering(n_clusters=7,affinity=n, linkage='complete'))\n",
    "algorithms.append(AgglomerativeClustering(n_clusters=7,affinity=n, linkage='average'))\n",
    "metric_results = {}\n",
    "\n",
    "for algo in algorithms:\n",
    "    algo.fit(X)\n",
    "    for i in np.unique(y1): \n",
    "    #metric_results4[i]=algo.labels_[np.where(cy1==i)]\n",
    "        metric_results[i]=np.ndarray.tolist(algo.labels_[list(np.where(y1==i)[0])])\n",
    "        print(Counter(metric_results[i]))\n",
    "    print('---------------------------------------------------------------------------')\n",
    "\n"
   ]
  },
  {
   "cell_type": "markdown",
   "metadata": {},
   "source": [
    "# Sokal-Michener"
   ]
  },
  {
   "cell_type": "code",
   "execution_count": 4,
   "metadata": {},
   "outputs": [
    {
     "name": "stdout",
     "output_type": "stream",
     "text": [
      "Counter({2: 1, 1: 1})\n",
      "Counter({1: 6, 0: 1})\n",
      "Counter({1: 1})\n",
      "Counter({1: 12})\n",
      "Counter({6: 2, 1: 1})\n",
      "Counter({6: 28, 1: 1})\n",
      "Counter({1: 5, 0: 4, 4: 4, 3: 1, 5: 1, 2: 1})\n",
      "---------------------------------------------------------------------------\n",
      "Counter({6: 1, 2: 1})\n",
      "Counter({3: 5, 0: 1, 2: 1})\n",
      "Counter({2: 1})\n",
      "Counter({4: 10, 3: 1, 2: 1})\n",
      "Counter({1: 1, 5: 1, 2: 1})\n",
      "Counter({1: 27, 5: 2})\n",
      "Counter({0: 10, 2: 5, 6: 1})\n",
      "---------------------------------------------------------------------------\n",
      "Counter({2: 1, 1: 1})\n",
      "Counter({4: 5, 3: 1, 6: 1})\n",
      "Counter({6: 1})\n",
      "Counter({1: 11, 4: 1})\n",
      "Counter({0: 2, 1: 1})\n",
      "Counter({0: 28, 1: 1})\n",
      "Counter({5: 5, 3: 4, 6: 4, 2: 2, 1: 1})\n",
      "---------------------------------------------------------------------------\n"
     ]
    }
   ],
   "source": [
    "k='sokalmichener'\n",
    "algorithms = []\n",
    "algorithms.append(AgglomerativeClustering(n_clusters=7,affinity=k, linkage='single'))\n",
    "algorithms.append(AgglomerativeClustering(n_clusters=7,affinity=k, linkage='complete'))\n",
    "algorithms.append(AgglomerativeClustering(n_clusters=7,affinity=k, linkage='average'))\n",
    "metric_results = {}\n",
    "\n",
    "for algo in algorithms:\n",
    "    algo.fit(X)\n",
    "    for i in np.unique(y1): \n",
    "    #metric_results4[i]=algo.labels_[np.where(cy1==i)]\n",
    "        metric_results[i]=np.ndarray.tolist(algo.labels_[list(np.where(y1==i)[0])])\n",
    "        print(Counter(metric_results[i]))\n",
    "    print('---------------------------------------------------------------------------')\n",
    "\n"
   ]
  },
  {
   "cell_type": "markdown",
   "metadata": {},
   "source": [
    "# Hamming"
   ]
  },
  {
   "cell_type": "code",
   "execution_count": 5,
   "metadata": {},
   "outputs": [
    {
     "name": "stdout",
     "output_type": "stream",
     "text": [
      "Counter({2: 1, 1: 1})\n",
      "Counter({1: 6, 0: 1})\n",
      "Counter({1: 1})\n",
      "Counter({1: 12})\n",
      "Counter({6: 2, 1: 1})\n",
      "Counter({6: 28, 1: 1})\n",
      "Counter({1: 5, 0: 4, 4: 4, 3: 1, 5: 1, 2: 1})\n",
      "---------------------------------------------------------------------------\n",
      "Counter({6: 1, 2: 1})\n",
      "Counter({3: 5, 0: 1, 2: 1})\n",
      "Counter({2: 1})\n",
      "Counter({4: 10, 3: 1, 2: 1})\n",
      "Counter({1: 1, 5: 1, 2: 1})\n",
      "Counter({1: 27, 5: 2})\n",
      "Counter({0: 10, 2: 5, 6: 1})\n",
      "---------------------------------------------------------------------------\n",
      "Counter({2: 1, 1: 1})\n",
      "Counter({4: 5, 3: 1, 6: 1})\n",
      "Counter({6: 1})\n",
      "Counter({1: 11, 4: 1})\n",
      "Counter({0: 2, 1: 1})\n",
      "Counter({0: 28, 1: 1})\n",
      "Counter({5: 5, 3: 4, 6: 4, 2: 2, 1: 1})\n",
      "---------------------------------------------------------------------------\n"
     ]
    }
   ],
   "source": [
    "r='hamming'\n",
    "algorithms = []\n",
    "algorithms.append(AgglomerativeClustering(n_clusters=7,affinity=r, linkage='single'))\n",
    "algorithms.append(AgglomerativeClustering(n_clusters=7,affinity=r, linkage='complete'))\n",
    "algorithms.append(AgglomerativeClustering(n_clusters=7,affinity=r, linkage='average'))\n",
    "metric_results = {}\n",
    "\n",
    "for algo in algorithms:\n",
    "    algo.fit(X)\n",
    "    for i in np.unique(y1): \n",
    "    #metric_results4[i]=algo.labels_[np.where(cy1==i)]\n",
    "        metric_results[i]=np.ndarray.tolist(algo.labels_[list(np.where(y1==i)[0])])\n",
    "        print(Counter(metric_results[i]))\n",
    "    print('---------------------------------------------------------------------------')"
   ]
  },
  {
   "cell_type": "markdown",
   "metadata": {},
   "source": [
    "# Russell and Rao"
   ]
  },
  {
   "cell_type": "code",
   "execution_count": 6,
   "metadata": {},
   "outputs": [
    {
     "name": "stdout",
     "output_type": "stream",
     "text": [
      "Counter({2: 1, 1: 1})\n",
      "Counter({1: 6, 0: 1})\n",
      "Counter({1: 1})\n",
      "Counter({1: 12})\n",
      "Counter({6: 2, 1: 1})\n",
      "Counter({6: 28, 1: 1})\n",
      "Counter({1: 5, 0: 4, 4: 4, 3: 1, 5: 1, 2: 1})\n",
      "---------------------------------------------------------------------------\n",
      "Counter({6: 1, 2: 1})\n",
      "Counter({3: 5, 0: 1, 2: 1})\n",
      "Counter({2: 1})\n",
      "Counter({4: 10, 3: 1, 2: 1})\n",
      "Counter({1: 1, 5: 1, 2: 1})\n",
      "Counter({1: 27, 5: 2})\n",
      "Counter({0: 10, 2: 5, 6: 1})\n",
      "---------------------------------------------------------------------------\n",
      "Counter({2: 1, 1: 1})\n",
      "Counter({4: 5, 3: 1, 6: 1})\n",
      "Counter({6: 1})\n",
      "Counter({1: 11, 4: 1})\n",
      "Counter({0: 2, 1: 1})\n",
      "Counter({0: 28, 1: 1})\n",
      "Counter({5: 5, 3: 4, 6: 4, 2: 2, 1: 1})\n",
      "---------------------------------------------------------------------------\n"
     ]
    }
   ],
   "source": [
    "m='russellrao'\n",
    "algorithms = []\n",
    "algorithms.append(AgglomerativeClustering(n_clusters=7,affinity=m, linkage='single'))\n",
    "algorithms.append(AgglomerativeClustering(n_clusters=7,affinity=m, linkage='complete'))\n",
    "algorithms.append(AgglomerativeClustering(n_clusters=7,affinity=m, linkage='average'))\n",
    "metric_results = {}\n",
    "\n",
    "for algo in algorithms:\n",
    "    algo.fit(X)\n",
    "    for i in np.unique(y1): \n",
    "    #metric_results4[i]=algo.labels_[np.where(cy1==i)]\n",
    "        metric_results[i]=np.ndarray.tolist(algo.labels_[list(np.where(y1==i)[0])])\n",
    "        print(Counter(metric_results[i]))\n",
    "    print('---------------------------------------------------------------------------')"
   ]
  },
  {
   "cell_type": "code",
   "execution_count": null,
   "metadata": {},
   "outputs": [],
   "source": []
  }
 ],
 "metadata": {
  "kernelspec": {
   "display_name": "Python 3",
   "language": "python",
   "name": "python3"
  },
  "language_info": {
   "codemirror_mode": {
    "name": "ipython",
    "version": 3
   },
   "file_extension": ".py",
   "mimetype": "text/x-python",
   "name": "python",
   "nbconvert_exporter": "python",
   "pygments_lexer": "ipython3",
   "version": "3.7.0"
  }
 },
 "nbformat": 4,
 "nbformat_minor": 2
}
